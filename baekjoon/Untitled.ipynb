{
 "cells": [
  {
   "cell_type": "code",
   "execution_count": 11,
   "id": "1951b472-36a1-4f55-b7e2-4e9869814b39",
   "metadata": {},
   "outputs": [],
   "source": [
    "import time"
   ]
  },
  {
   "cell_type": "code",
   "execution_count": 34,
   "id": "2d43b3b0-36f0-4528-86d5-28a7261fe4f9",
   "metadata": {},
   "outputs": [
    {
     "data": {
      "text/plain": [
       "'2024-10-5'"
      ]
     },
     "execution_count": 34,
     "metadata": {},
     "output_type": "execute_result"
    }
   ],
   "source": [
    "str(time.localtime().tm_year)+'-'+str(time.localtime().tm_mon)+'-'+str(time.localtime().tm_mday)"
   ]
  },
  {
   "cell_type": "code",
   "execution_count": 38,
   "id": "6bf06463-cbca-4b62-8b0b-d06e31ab1e4f",
   "metadata": {},
   "outputs": [
    {
     "name": "stdout",
     "output_type": "stream",
     "text": [
      "2024-10-05\n"
     ]
    }
   ],
   "source": [
    "import time\n",
    "print('{}-{:02}-{:02}'.format(time.localtime().tm_year,\n",
    "                           time.localtime().tm_mon,\n",
    "                          time.localtime().tm_mday))"
   ]
  },
  {
   "cell_type": "code",
   "execution_count": null,
   "id": "47ecefa1-dee0-48a5-bb1f-d8fd4c85e36f",
   "metadata": {},
   "outputs": [],
   "source": []
  }
 ],
 "metadata": {
  "kernelspec": {
   "display_name": "Python 3 (ipykernel)",
   "language": "python",
   "name": "python3"
  },
  "language_info": {
   "codemirror_mode": {
    "name": "ipython",
    "version": 3
   },
   "file_extension": ".py",
   "mimetype": "text/x-python",
   "name": "python",
   "nbconvert_exporter": "python",
   "pygments_lexer": "ipython3",
   "version": "3.9.20"
  }
 },
 "nbformat": 4,
 "nbformat_minor": 5
}
